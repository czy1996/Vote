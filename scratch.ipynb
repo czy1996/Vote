{
 "cells": [
  {
   "cell_type": "code",
   "execution_count": 3,
   "metadata": {
    "collapsed": false
   },
   "outputs": [
    {
     "name": "stdout",
     "output_type": "stream",
     "text": [
      "b'shit'\nb'73686974'\n"
     ]
    }
   ],
   "source": [
    "from math import log\n",
    "from binascii import hexlify\n",
    "\n",
    "a = b'shit'\n",
    "print(a)\n",
    "print(hexlify(a))"
   ]
  },
  {
   "cell_type": "code",
   "execution_count": 5,
   "metadata": {},
   "outputs": [
    {
     "ename": "ValueError",
     "evalue": "invalid literal for int() with base 10: b'shit'",
     "traceback": [
      "\u001b[0;31m---------------------------------------------------------------------------\u001b[0m",
      "\u001b[0;31mValueError\u001b[0m                                Traceback (most recent call last)",
      "\u001b[0;32m<ipython-input-5-05a37a681a20>\u001b[0m in \u001b[0;36m<module>\u001b[0;34m()\u001b[0m\n\u001b[0;32m----> 1\u001b[0;31m \u001b[0mint\u001b[0m\u001b[1;33m(\u001b[0m\u001b[1;34mb'shit'\u001b[0m\u001b[1;33m)\u001b[0m\u001b[1;33m\u001b[0m\u001b[0m\n\u001b[0m",
      "\u001b[0;31mValueError\u001b[0m: invalid literal for int() with base 10: b'shit'"
     ],
     "output_type": "error"
    }
   ],
   "source": [
    "int(b'shit')"
   ]
  },
  {
   "cell_type": "code",
   "execution_count": 13,
   "metadata": {},
   "outputs": [],
   "source": [
    "from random import randrange, random\n",
    "from collections import namedtuple\n",
    "from math import log, gcd\n",
    "from binascii import hexlify, unhexlify\n",
    "\n",
    "def is_prime(n, k=30):\n",
    "    if n <= 3:\n",
    "        return n == 2 or n == 3\n",
    "    neg_one = n - 1\n",
    "\n",
    "    s, d = 0, neg_one\n",
    "    while not d & 1:\n",
    "        s, d = s+1, d>>1\n",
    "    assert 2 ** s * d == neg_one and d & 1\n",
    "\n",
    "    for i in range(k):\n",
    "        a = randrange(2, neg_one)\n",
    "        x = pow(a, d, n)\n",
    "        if x in range(1, neg_one):\n",
    "            continue\n",
    "        for r in range(1, s):\n",
    "            x = x ** 2 % n\n",
    "            if x == 1:\n",
    "                return False\n",
    "            if x == neg_one:\n",
    "                break\n",
    "        else:\n",
    "            return False\n",
    "    return True\n",
    "\n",
    "def randprime(N=10**8):\n",
    "    p = 1\n",
    "    while not is_prime(p):\n",
    "        p = randrange(N)\n",
    "    return p\n",
    "\n",
    "def multinv(modulus, value):\n",
    "    x, lastx = 0, 1\n",
    "    a, b = modulus, value\n",
    "    while b:\n",
    "        a, q, b = b, a // b, a % b\n",
    "        x, lastx = lastx - q * x, x\n",
    "    result = (1 - lastx * modulus) // value\n",
    "    if result < 0:\n",
    "        result += modulus\n",
    "    assert 0 <= result < modulus and value * result % modulus == 1\n",
    "    return result\n",
    "\n",
    "KeyPair = namedtuple('KeyPair', 'public private')\n",
    "Key = namedtuple('Key', 'exponent modulus')\n",
    "\n",
    "def keygen(N, public=None):\n",
    "    prime1 = randprime(N)\n",
    "    prime2 = randprime(N)\n",
    "    composite = prime1 * prime2\n",
    "    totient = (prime1 - 1) * (prime2 - 1)\n",
    "    if public is None:\n",
    "        while True:\n",
    "            private = randrange(totient)\n",
    "            if gcd(private, totient) == 1:\n",
    "                break\n",
    "        public = multinv(totient, private)\n",
    "    else:\n",
    "        private = multinv(totient, public)\n",
    "    assert public * private % totient == gcd(public, totient) == gcd(private, totient) == 1\n",
    "    assert pow(pow(1234567, public, composite), private, composite) == 1234567\n",
    "    return KeyPair(Key(public, composite), Key(private, composite))\n",
    "\n",
    "def signature(msg, privkey):\n",
    "    f=open('signedfile','w')\n",
    "    coded = pow(int(msg), *privkey)% privkey[1]\n",
    "    print(\"Blinded Signed Message \"+str(coded))\n",
    "    f.write(str(coded))\n",
    "\n",
    "def blindingfactor(N):\n",
    "    b=random()*(N-1)\n",
    "    r=int(b)\n",
    "    while gcd(r,N)!=1:\n",
    "        r=r+1\n",
    "    return r\n",
    "\n",
    "def blind(msg,pubkey):\n",
    "    f=open('blindmsg','w')\n",
    "    r=blindingfactor(pubkey[1])\n",
    "    m=int(msg)\n",
    "    blindmsg=(pow(r,*pubkey)*m)% pubkey[1]\n",
    "    print(\"Blinded Message \"+str(blindmsg))\n",
    "    f.write(str(blindmsg))\n",
    "    return r\n",
    "\n",
    "\n",
    "def unblind(msg,r,pubkey):\n",
    "\tf=open('unblindsigned','w')\n",
    "\tbsm=int(msg)\n",
    "\tubsm=(bsm*multinv(pubkey[1],r))% pubkey[1]\n",
    "\tprint(\"Unblinded Signed Message \"+str(ubsm))\n",
    "\tf.write(str(ubsm))\n",
    "\n",
    "\n",
    "def verefy(msg,r,pubkey):\n",
    "    print(\"Message After Verification \"+str(pow(int(msg),*pubkey)%pubkey[1]))"
   ]
  },
  {
   "cell_type": "code",
   "execution_count": 14,
   "metadata": {},
   "outputs": [
    {
     "ename": "AssertionError",
     "evalue": "",
     "traceback": [
      "\u001b[0;31m---------------------------------------------------------------------------\u001b[0m",
      "\u001b[0;31mAssertionError\u001b[0m                            Traceback (most recent call last)",
      "\u001b[0;32m<ipython-input-14-01bfa4bf002f>\u001b[0m in \u001b[0;36m<module>\u001b[0;34m()\u001b[0m\n\u001b[1;32m      1\u001b[0m \u001b[0mf\u001b[0m\u001b[1;33m=\u001b[0m\u001b[0mopen\u001b[0m\u001b[1;33m(\u001b[0m\u001b[1;34m'msg'\u001b[0m\u001b[1;33m)\u001b[0m\u001b[1;33m\u001b[0m\u001b[0m\n\u001b[0;32m----> 2\u001b[0;31m \u001b[0mpubkey\u001b[0m\u001b[1;33m,\u001b[0m \u001b[0mprivkey\u001b[0m \u001b[1;33m=\u001b[0m \u001b[0mkeygen\u001b[0m\u001b[1;33m(\u001b[0m\u001b[1;36m2\u001b[0m \u001b[1;33m**\u001b[0m \u001b[1;36m128\u001b[0m\u001b[1;33m)\u001b[0m\u001b[1;33m\u001b[0m\u001b[0m\n\u001b[0m\u001b[1;32m      3\u001b[0m \u001b[0mmsg\u001b[0m\u001b[1;33m=\u001b[0m\u001b[0mf\u001b[0m\u001b[1;33m.\u001b[0m\u001b[0mread\u001b[0m\u001b[1;33m(\u001b[0m\u001b[1;33m)\u001b[0m\u001b[1;33m\u001b[0m\u001b[0m\n\u001b[1;32m      4\u001b[0m \u001b[0mmsg\u001b[0m\u001b[1;33m=\u001b[0m\u001b[0mmsg\u001b[0m\u001b[1;33m.\u001b[0m\u001b[0mrstrip\u001b[0m\u001b[1;33m(\u001b[0m\u001b[1;33m)\u001b[0m\u001b[1;33m\u001b[0m\u001b[0m\n\u001b[1;32m      5\u001b[0m \u001b[0mprint\u001b[0m\u001b[1;33m(\u001b[0m\u001b[1;34m\"Original Message \"\u001b[0m\u001b[1;33m+\u001b[0m\u001b[0mstr\u001b[0m\u001b[1;33m(\u001b[0m\u001b[0mmsg\u001b[0m\u001b[1;33m)\u001b[0m\u001b[1;33m)\u001b[0m\u001b[1;33m\u001b[0m\u001b[0m\n",
      "\u001b[0;32m<ipython-input-13-40a654ea66c9>\u001b[0m in \u001b[0;36mkeygen\u001b[0;34m(N, public)\u001b[0m\n\u001b[1;32m     64\u001b[0m         \u001b[0mprivate\u001b[0m \u001b[1;33m=\u001b[0m \u001b[0mmultinv\u001b[0m\u001b[1;33m(\u001b[0m\u001b[0mtotient\u001b[0m\u001b[1;33m,\u001b[0m \u001b[0mpublic\u001b[0m\u001b[1;33m)\u001b[0m\u001b[1;33m\u001b[0m\u001b[0m\n\u001b[1;32m     65\u001b[0m     \u001b[1;32massert\u001b[0m \u001b[0mpublic\u001b[0m \u001b[1;33m*\u001b[0m \u001b[0mprivate\u001b[0m \u001b[1;33m%\u001b[0m \u001b[0mtotient\u001b[0m \u001b[1;33m==\u001b[0m \u001b[0mgcd\u001b[0m\u001b[1;33m(\u001b[0m\u001b[0mpublic\u001b[0m\u001b[1;33m,\u001b[0m \u001b[0mtotient\u001b[0m\u001b[1;33m)\u001b[0m \u001b[1;33m==\u001b[0m \u001b[0mgcd\u001b[0m\u001b[1;33m(\u001b[0m\u001b[0mprivate\u001b[0m\u001b[1;33m,\u001b[0m \u001b[0mtotient\u001b[0m\u001b[1;33m)\u001b[0m \u001b[1;33m==\u001b[0m \u001b[1;36m1\u001b[0m\u001b[1;33m\u001b[0m\u001b[0m\n\u001b[0;32m---> 66\u001b[0;31m     \u001b[1;32massert\u001b[0m \u001b[0mpow\u001b[0m\u001b[1;33m(\u001b[0m\u001b[0mpow\u001b[0m\u001b[1;33m(\u001b[0m\u001b[1;36m1234567\u001b[0m\u001b[1;33m,\u001b[0m \u001b[0mpublic\u001b[0m\u001b[1;33m,\u001b[0m \u001b[0mcomposite\u001b[0m\u001b[1;33m)\u001b[0m\u001b[1;33m,\u001b[0m \u001b[0mprivate\u001b[0m\u001b[1;33m,\u001b[0m \u001b[0mcomposite\u001b[0m\u001b[1;33m)\u001b[0m \u001b[1;33m==\u001b[0m \u001b[1;36m1234567\u001b[0m\u001b[1;33m\u001b[0m\u001b[0m\n\u001b[0m\u001b[1;32m     67\u001b[0m     \u001b[1;32mreturn\u001b[0m \u001b[0mKeyPair\u001b[0m\u001b[1;33m(\u001b[0m\u001b[0mKey\u001b[0m\u001b[1;33m(\u001b[0m\u001b[0mpublic\u001b[0m\u001b[1;33m,\u001b[0m \u001b[0mcomposite\u001b[0m\u001b[1;33m)\u001b[0m\u001b[1;33m,\u001b[0m \u001b[0mKey\u001b[0m\u001b[1;33m(\u001b[0m\u001b[0mprivate\u001b[0m\u001b[1;33m,\u001b[0m \u001b[0mcomposite\u001b[0m\u001b[1;33m)\u001b[0m\u001b[1;33m)\u001b[0m\u001b[1;33m\u001b[0m\u001b[0m\n\u001b[1;32m     68\u001b[0m \u001b[1;33m\u001b[0m\u001b[0m\n",
      "\u001b[0;31mAssertionError\u001b[0m: "
     ],
     "output_type": "error"
    }
   ],
   "source": [
    "f=open('msg')\n",
    "pubkey, privkey = keygen(2 ** 128)\n",
    "msg=f.read()\n",
    "msg=msg.rstrip()\n",
    "print(\"Original Message \"+str(msg))\n",
    "r=blind(msg,pubkey)\n",
    "\n",
    "#Alice receives the blind message and signs it\n",
    "bf=open('blindmsg')\n",
    "m=bf.read()\n",
    "signature(m, privkey)\n",
    "\n",
    "#Bob recieves the signed message and unblinds it\n",
    "h=open('signedfile')\n",
    "signedmsg=h.read()\n",
    "unblind(signedmsg,r,pubkey)\n",
    "    \n",
    "#verifier verefis the message\n",
    "i=open('unblindsigned')\n",
    "ubsignedmsg=i.read()\n",
    "verefy(ubsignedmsg,r,pubkey)"
   ]
  },
  {
   "cell_type": "code",
   "execution_count": 18,
   "metadata": {},
   "outputs": [
    {
     "data": {
      "text/plain": [
       "'sh'"
      ]
     },
     "execution_count": 18,
     "metadata": {},
     "output_type": "execute_result"
    }
   ],
   "source": [
    "s = 'shit'\n",
    "s[:-2]"
   ]
  },
  {
   "cell_type": "code",
   "execution_count": 19,
   "metadata": {},
   "outputs": [
    {
     "data": {
      "text/plain": [
       "196086627545314060731611037047031899295"
      ]
     },
     "execution_count": 19,
     "metadata": {},
     "output_type": "execute_result"
    }
   ],
   "source": [
    "import uuid\n",
    "u = uuid.uuid4()\n",
    "u.int"
   ]
  },
  {
   "cell_type": "code",
   "execution_count": 31,
   "metadata": {
    "collapsed": false
   },
   "outputs": [
    {
     "name": "stdout",
     "output_type": "stream",
     "text": [
      "OK\n"
     ]
    }
   ],
   "source": [
    "from Crypto import Random\n",
    "from Crypto.Random import random, get_random_bytes\n",
    "from Crypto.PublicKey import ElGamal\n",
    "from Crypto.Util.number import GCD, long_to_bytes\n",
    "from Crypto.Hash import SHA\n",
    "import base64\n",
    "\n",
    "\n",
    "def get_private_key():\n",
    "    with open('private.el') as f:\n",
    "        return ElGamal.construct(eval(f.read()))\n",
    "    \n",
    "    \n",
    "message = \"Hello\"\n",
    "# key = ElGamal.generate(1024, get_random_bytes)\n",
    "key = get_private_key()\n",
    "# h = SHA.new(message.encode()).digest()\n",
    "h = message.encode()\n",
    "while 1:\n",
    "    k = random.StrongRandom().randint(1, key.p-1)\n",
    "    if GCD(k, key.p-1) == 1: \n",
    "        break\n",
    "sig = key.sign(h, k)\n",
    "\n",
    "print(base64.encodebytes(long_to_bytes(sig[0])))\n",
    "\n",
    "if key.verify(h, sig):\n",
    "    print(\"OK\")\n",
    "else:\n",
    "    print(\"Incorrect signature\")\n"
   ]
  },
  {
   "cell_type": "code",
   "execution_count": 32,
   "metadata": {
    "collapsed": false
   },
   "outputs": [
    {
     "name": "stdout",
     "output_type": "stream",
     "text": [
      "OK\n"
     ]
    }
   ],
   "source": [
    "from Crypto import Random\n",
    "from Crypto.Random import random, get_random_bytes\n",
    "from Crypto.PublicKey import RSA\n",
    "from Crypto.Util.number import GCD\n",
    "from Crypto.Hash import SHA\n",
    "from uuid import uuid4\n",
    "import json\n",
    "\n",
    "\n",
    "def get_private_key():\n",
    "    with open('private.key') as f:\n",
    "        return RSA.importKey(f.read())\n",
    "    \n",
    "    \n",
    "def randomize(message):\n",
    "    d = {\n",
    "        'message': message,\n",
    "        'randomize': uuid4().int,\n",
    "    }\n",
    "    return json.dumps(d).encode()\n",
    "    \n",
    "    \n",
    "    \n",
    "message = \"Hello\"\n",
    "# key = ElGamal.generate(1024, get_random_bytes)\n",
    "key = get_private_key()\n",
    "# h = SHA.new(message.encode()).digest()\n",
    "h = randomize(message)\n",
    "\n",
    "blind_factor = random.randrange(key.n >> 10, key.n)\n",
    "blinded_message = key.blind(h, blind_factor)\n",
    "    \n",
    "sig = key.sign(blinded_message, 0)\n",
    "# print(type(sig))\n",
    "unblinded_sig = key.unblind(sig[0], blind_factor)\n",
    "\n",
    "if key.verify(h, (unblinded_sig,)):\n",
    "    print(\"OK\")\n",
    "else:\n",
    "    print(\"Incorrect signature\")"
   ]
  },
  {
   "cell_type": "code",
   "execution_count": 20,
   "metadata": {
    "collapsed": false
   },
   "outputs": [
    {
     "name": "stdout",
     "output_type": "stream",
     "text": [
      "vSHqKe9M9URC5ECLYNx4eYIjHZF44hIP1/+cQdyRNjhKCpkqjdcqGYMfIzQipAPoGD/gOv+BPUfa\nWDXKlv0WMUtj+b6lbuneT1MlaNCz3daDxTt/9iKBEDK/FwHTSkKVL/86kl+phe27Qi2bjWL6uclh\n30yFnV2SYt30PSCpUIg=\n\nb'bd21ea29ef4cf54442e4408b60dc787982231d9178e2120fd7ff9c41dc9136384a0a992a8dd72a19831f233422a403e8183fe03aff813d47da5835ca96fd16314b63f9bea56ee9de4f532568d0b3ddd683c53b7ff622811032bf1701d34a42952fff3a925fa985edbb422d9b8d62fab9c961df4c859d5d9262ddf43d20a95088'\n[189, 33, 234, 41, 239, 76, 245, 68, 66, 228, 64, 139, 96, 220, 120, 121, 130, 35, 29, 145, 120, 226, 18, 15, 215, 255, 156, 65, 220, 145, 54, 56, 74, 10, 153, 42, 141, 215, 42, 25, 131, 31, 35, 52, 34, 164, 3, 232, 24, 63, 224, 58, 255, 129, 61, 71, 218, 88, 53, 202, 150, 253, 22, 49, 75, 99, 249, 190, 165, 110, 233, 222, 79, 83, 37, 104, 208, 179, 221, 214, 131, 197, 59, 127, 246, 34, 129, 16, 50, 191, 23, 1, 211, 74, 66, 149, 47, 255, 58, 146, 95, 169, 133, 237, 187, 66, 45, 155, 141, 98, 250, 185, 201, 97, 223, 76, 133, 157, 93, 146, 98, 221, 244, 61, 32, 169, 80, 136]\nOK\n"
     ]
    }
   ],
   "source": [
    "from Crypto import Random\n",
    "from Crypto.Random import random, get_random_bytes\n",
    "from Crypto.PublicKey import RSA\n",
    "from Crypto.Util.number import GCD, long_to_bytes, bytes_to_long\n",
    "from Crypto.Hash import SHA\n",
    "from uuid import uuid4\n",
    "import json\n",
    "import base64\n",
    "from binascii import hexlify\n",
    "\n",
    "\n",
    "def get_private_key():\n",
    "    with open('private.key') as f:\n",
    "        return RSA.importKey(f.read())\n",
    "    \n",
    "    \n",
    "def randomize(message):\n",
    "    d = {\n",
    "        'message': message,\n",
    "        'randomize': uuid4().int,\n",
    "    }\n",
    "    # return json.dumps(d).encode()\n",
    "    return message.encode()\n",
    "\n",
    "\n",
    "message = \"Hello\"\n",
    "# key = ElGamal.generate(1024, get_random_bytes)\n",
    "key = get_private_key()\n",
    "# h = SHA.new(message.encode()).digest()\n",
    "h = randomize(message)\n",
    "\n",
    "sig = key.sign(h, 0)\n",
    "# print(type(sig))\n",
    "b64sig = base64.encodebytes(long_to_bytes(sig[0]))\n",
    "print(b64sig.decode())\n",
    "print(hexlify(long_to_bytes(sig[0])))\n",
    "print(list(bytearray(long_to_bytes(sig[0]))))\n",
    "\n",
    "\n",
    "if key.verify(h, (bytes_to_long(base64.decodebytes(b64sig)), )):\n",
    "    print(\"OK\")\n",
    "else:\n",
    "    print(\"Incorrect signature\")"
   ]
  },
  {
   "cell_type": "code",
   "execution_count": 38,
   "metadata": {},
   "outputs": [
    {
     "data": {
      "text/plain": [
       "b'a\\xd2\\xc5\\xc99v\\xa37e\\xddW\\x90\\nT\\xc58\\xfa\\x80l\\xee\\xb5\\xc6T\"Z8/\\xc8\\x89o\\x82\\xf3\\x10O9\\xe2\\xf0=\\x81\\xd3\\x07z\\x87!%\\xda\\xf8\\xa7Tpk\\xa9\\xe1s\\xea\\x9d\\xb3\\x97\\x95\\x81\\x81\\xa6R\\xacK\\xec\\xec8\\x08j0\\x85\\xfa\\x10\\xbd\\x92\\xbak\\xd7\\xfe\\xea+\\x8fE\\x9bb\\xe6\\x96w.\\xb3\\xa2\\xe3Y\\x88\\xeb\\xc1;k\\xc8\\xc9K\\xd0\\xf2\\xd6\\xcav\\xa1\\xa3e\\xd1H\\xd7\\xc8b;\\x17\\\\9x\\xbe\\xcf\\xe3\\xc2#\\x1c\\xe2\\x1d'"
      ]
     },
     "execution_count": 38,
     "metadata": {},
     "output_type": "execute_result"
    }
   ],
   "source": [
    "base64.decodebytes(b'YdLFyTl2ozdl3VeQClTFOPqAbO61xlQiWjgvyIlvgvMQTzni8D2B0wd6hyEl2vinVHBrqeFz6p2z\\nl5WBgaZSrEvs7DgIajCF+hC9krpr1/7qK49Fm2Lmlncus6LjWYjrwTtryMlL0PLWynaho2XRSNfI\\nYjsXXDl4vs/jwiMc4h0=\\n')"
   ]
  },
  {
   "cell_type": "code",
   "execution_count": 7,
   "metadata": {},
   "outputs": [
    {
     "name": "stdout",
     "output_type": "stream",
     "text": [
      "shit\n"
     ]
    }
   ],
   "source": [
    "print('shit')"
   ]
  },
  {
   "cell_type": "code",
   "execution_count": 4,
   "metadata": {},
   "outputs": [
    {
     "name": "stdout",
     "output_type": "stream",
     "text": [
      "(163792713254893047022994698854544265071948819482106928644010202798045194943479627347801233937528671402471190013660346518801300122146170729950045208162060879362651176589002151293664199588192683288803931075040500177449692875451689901629395357714644063210211503329684453490207330834795063586060945105780639089819, 4013491238258108162078662334995005609192386852712287258203437809010297339754002847964808141580709789416167105015376355414640315978166382748716849914337931473670341639358495454243598807017289522531636803149452604569441458306555511925943197573181109382655903555710070037850462205467022402415740411887931335684, 28770613988250627996402463092133306777741810393388608485626127679322819715665671949020722671255614494347990314924846974474095755731486360602527972935202153874917882341549732688684879523541423280966593987076347115322486018239647672254673744401746091755468705746199732187907227269405952293972376915438386126455, 7035779174757135516799733747442329075458075075748644602703819931887395614418945110560948173053234279087564871898677447049868536724732298460391441118727871977320558487404216038522265410042465123947773278445911759268362679370567721015154820717314571928813721146688326774145496803093693236467575781242927861376)\n"
     ]
    }
   ],
   "source": [
    "key = ElGamal.generate(1024, get_random_bytes)\n",
    "print((key.p, key.g, key.y, key.x))"
   ]
  }
 ],
 "metadata": {
  "kernelspec": {
   "display_name": "Python 2",
   "language": "python",
   "name": "python2"
  },
  "language_info": {
   "codemirror_mode": {
    "name": "ipython",
    "version": 2
   },
   "file_extension": ".py",
   "mimetype": "text/x-python",
   "name": "python",
   "nbconvert_exporter": "python",
   "pygments_lexer": "ipython2",
   "version": "2.7.6"
  }
 },
 "nbformat": 4,
 "nbformat_minor": 0
}
