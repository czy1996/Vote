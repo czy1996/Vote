{
 "cells": [
  {
   "cell_type": "code",
   "execution_count": 3,
   "metadata": {
    "collapsed": true
   },
   "outputs": [
    {
     "name": "stdout",
     "output_type": "stream",
     "text": [
      "b'shit'\nb'73686974'\n"
     ]
    }
   ],
   "source": [
    "from math import log\n",
    "from binascii import hexlify\n",
    "\n",
    "a = b'shit'\n",
    "print(a)\n",
    "print(hexlify(a))"
   ]
  },
  {
   "cell_type": "code",
   "execution_count": 5,
   "metadata": {},
   "outputs": [
    {
     "ename": "ValueError",
     "evalue": "invalid literal for int() with base 10: b'shit'",
     "traceback": [
      "\u001b[0;31m---------------------------------------------------------------------------\u001b[0m",
      "\u001b[0;31mValueError\u001b[0m                                Traceback (most recent call last)",
      "\u001b[0;32m<ipython-input-5-05a37a681a20>\u001b[0m in \u001b[0;36m<module>\u001b[0;34m()\u001b[0m\n\u001b[0;32m----> 1\u001b[0;31m \u001b[0mint\u001b[0m\u001b[1;33m(\u001b[0m\u001b[1;34mb'shit'\u001b[0m\u001b[1;33m)\u001b[0m\u001b[1;33m\u001b[0m\u001b[0m\n\u001b[0m",
      "\u001b[0;31mValueError\u001b[0m: invalid literal for int() with base 10: b'shit'"
     ],
     "output_type": "error"
    }
   ],
   "source": [
    "int(b'shit')"
   ]
  },
  {
   "cell_type": "code",
   "execution_count": 13,
   "metadata": {},
   "outputs": [],
   "source": [
    "from random import randrange, random\n",
    "from collections import namedtuple\n",
    "from math import log, gcd\n",
    "from binascii import hexlify, unhexlify\n",
    "\n",
    "def is_prime(n, k=30):\n",
    "    if n <= 3:\n",
    "        return n == 2 or n == 3\n",
    "    neg_one = n - 1\n",
    "\n",
    "    s, d = 0, neg_one\n",
    "    while not d & 1:\n",
    "        s, d = s+1, d>>1\n",
    "    assert 2 ** s * d == neg_one and d & 1\n",
    "\n",
    "    for i in range(k):\n",
    "        a = randrange(2, neg_one)\n",
    "        x = pow(a, d, n)\n",
    "        if x in range(1, neg_one):\n",
    "            continue\n",
    "        for r in range(1, s):\n",
    "            x = x ** 2 % n\n",
    "            if x == 1:\n",
    "                return False\n",
    "            if x == neg_one:\n",
    "                break\n",
    "        else:\n",
    "            return False\n",
    "    return True\n",
    "\n",
    "def randprime(N=10**8):\n",
    "    p = 1\n",
    "    while not is_prime(p):\n",
    "        p = randrange(N)\n",
    "    return p\n",
    "\n",
    "def multinv(modulus, value):\n",
    "    x, lastx = 0, 1\n",
    "    a, b = modulus, value\n",
    "    while b:\n",
    "        a, q, b = b, a // b, a % b\n",
    "        x, lastx = lastx - q * x, x\n",
    "    result = (1 - lastx * modulus) // value\n",
    "    if result < 0:\n",
    "        result += modulus\n",
    "    assert 0 <= result < modulus and value * result % modulus == 1\n",
    "    return result\n",
    "\n",
    "KeyPair = namedtuple('KeyPair', 'public private')\n",
    "Key = namedtuple('Key', 'exponent modulus')\n",
    "\n",
    "def keygen(N, public=None):\n",
    "    prime1 = randprime(N)\n",
    "    prime2 = randprime(N)\n",
    "    composite = prime1 * prime2\n",
    "    totient = (prime1 - 1) * (prime2 - 1)\n",
    "    if public is None:\n",
    "        while True:\n",
    "            private = randrange(totient)\n",
    "            if gcd(private, totient) == 1:\n",
    "                break\n",
    "        public = multinv(totient, private)\n",
    "    else:\n",
    "        private = multinv(totient, public)\n",
    "    assert public * private % totient == gcd(public, totient) == gcd(private, totient) == 1\n",
    "    assert pow(pow(1234567, public, composite), private, composite) == 1234567\n",
    "    return KeyPair(Key(public, composite), Key(private, composite))\n",
    "\n",
    "def signature(msg, privkey):\n",
    "    f=open('signedfile','w')\n",
    "    coded = pow(int(msg), *privkey)% privkey[1]\n",
    "    print(\"Blinded Signed Message \"+str(coded))\n",
    "    f.write(str(coded))\n",
    "\n",
    "def blindingfactor(N):\n",
    "    b=random()*(N-1)\n",
    "    r=int(b)\n",
    "    while gcd(r,N)!=1:\n",
    "        r=r+1\n",
    "    return r\n",
    "\n",
    "def blind(msg,pubkey):\n",
    "    f=open('blindmsg','w')\n",
    "    r=blindingfactor(pubkey[1])\n",
    "    m=int(msg)\n",
    "    blindmsg=(pow(r,*pubkey)*m)% pubkey[1]\n",
    "    print(\"Blinded Message \"+str(blindmsg))\n",
    "    f.write(str(blindmsg))\n",
    "    return r\n",
    "\n",
    "\n",
    "def unblind(msg,r,pubkey):\n",
    "\tf=open('unblindsigned','w')\n",
    "\tbsm=int(msg)\n",
    "\tubsm=(bsm*multinv(pubkey[1],r))% pubkey[1]\n",
    "\tprint(\"Unblinded Signed Message \"+str(ubsm))\n",
    "\tf.write(str(ubsm))\n",
    "\n",
    "\n",
    "def verefy(msg,r,pubkey):\n",
    "    print(\"Message After Verification \"+str(pow(int(msg),*pubkey)%pubkey[1]))"
   ]
  },
  {
   "cell_type": "code",
   "execution_count": 14,
   "metadata": {},
   "outputs": [
    {
     "ename": "AssertionError",
     "evalue": "",
     "traceback": [
      "\u001b[0;31m---------------------------------------------------------------------------\u001b[0m",
      "\u001b[0;31mAssertionError\u001b[0m                            Traceback (most recent call last)",
      "\u001b[0;32m<ipython-input-14-01bfa4bf002f>\u001b[0m in \u001b[0;36m<module>\u001b[0;34m()\u001b[0m\n\u001b[1;32m      1\u001b[0m \u001b[0mf\u001b[0m\u001b[1;33m=\u001b[0m\u001b[0mopen\u001b[0m\u001b[1;33m(\u001b[0m\u001b[1;34m'msg'\u001b[0m\u001b[1;33m)\u001b[0m\u001b[1;33m\u001b[0m\u001b[0m\n\u001b[0;32m----> 2\u001b[0;31m \u001b[0mpubkey\u001b[0m\u001b[1;33m,\u001b[0m \u001b[0mprivkey\u001b[0m \u001b[1;33m=\u001b[0m \u001b[0mkeygen\u001b[0m\u001b[1;33m(\u001b[0m\u001b[1;36m2\u001b[0m \u001b[1;33m**\u001b[0m \u001b[1;36m128\u001b[0m\u001b[1;33m)\u001b[0m\u001b[1;33m\u001b[0m\u001b[0m\n\u001b[0m\u001b[1;32m      3\u001b[0m \u001b[0mmsg\u001b[0m\u001b[1;33m=\u001b[0m\u001b[0mf\u001b[0m\u001b[1;33m.\u001b[0m\u001b[0mread\u001b[0m\u001b[1;33m(\u001b[0m\u001b[1;33m)\u001b[0m\u001b[1;33m\u001b[0m\u001b[0m\n\u001b[1;32m      4\u001b[0m \u001b[0mmsg\u001b[0m\u001b[1;33m=\u001b[0m\u001b[0mmsg\u001b[0m\u001b[1;33m.\u001b[0m\u001b[0mrstrip\u001b[0m\u001b[1;33m(\u001b[0m\u001b[1;33m)\u001b[0m\u001b[1;33m\u001b[0m\u001b[0m\n\u001b[1;32m      5\u001b[0m \u001b[0mprint\u001b[0m\u001b[1;33m(\u001b[0m\u001b[1;34m\"Original Message \"\u001b[0m\u001b[1;33m+\u001b[0m\u001b[0mstr\u001b[0m\u001b[1;33m(\u001b[0m\u001b[0mmsg\u001b[0m\u001b[1;33m)\u001b[0m\u001b[1;33m)\u001b[0m\u001b[1;33m\u001b[0m\u001b[0m\n",
      "\u001b[0;32m<ipython-input-13-40a654ea66c9>\u001b[0m in \u001b[0;36mkeygen\u001b[0;34m(N, public)\u001b[0m\n\u001b[1;32m     64\u001b[0m         \u001b[0mprivate\u001b[0m \u001b[1;33m=\u001b[0m \u001b[0mmultinv\u001b[0m\u001b[1;33m(\u001b[0m\u001b[0mtotient\u001b[0m\u001b[1;33m,\u001b[0m \u001b[0mpublic\u001b[0m\u001b[1;33m)\u001b[0m\u001b[1;33m\u001b[0m\u001b[0m\n\u001b[1;32m     65\u001b[0m     \u001b[1;32massert\u001b[0m \u001b[0mpublic\u001b[0m \u001b[1;33m*\u001b[0m \u001b[0mprivate\u001b[0m \u001b[1;33m%\u001b[0m \u001b[0mtotient\u001b[0m \u001b[1;33m==\u001b[0m \u001b[0mgcd\u001b[0m\u001b[1;33m(\u001b[0m\u001b[0mpublic\u001b[0m\u001b[1;33m,\u001b[0m \u001b[0mtotient\u001b[0m\u001b[1;33m)\u001b[0m \u001b[1;33m==\u001b[0m \u001b[0mgcd\u001b[0m\u001b[1;33m(\u001b[0m\u001b[0mprivate\u001b[0m\u001b[1;33m,\u001b[0m \u001b[0mtotient\u001b[0m\u001b[1;33m)\u001b[0m \u001b[1;33m==\u001b[0m \u001b[1;36m1\u001b[0m\u001b[1;33m\u001b[0m\u001b[0m\n\u001b[0;32m---> 66\u001b[0;31m     \u001b[1;32massert\u001b[0m \u001b[0mpow\u001b[0m\u001b[1;33m(\u001b[0m\u001b[0mpow\u001b[0m\u001b[1;33m(\u001b[0m\u001b[1;36m1234567\u001b[0m\u001b[1;33m,\u001b[0m \u001b[0mpublic\u001b[0m\u001b[1;33m,\u001b[0m \u001b[0mcomposite\u001b[0m\u001b[1;33m)\u001b[0m\u001b[1;33m,\u001b[0m \u001b[0mprivate\u001b[0m\u001b[1;33m,\u001b[0m \u001b[0mcomposite\u001b[0m\u001b[1;33m)\u001b[0m \u001b[1;33m==\u001b[0m \u001b[1;36m1234567\u001b[0m\u001b[1;33m\u001b[0m\u001b[0m\n\u001b[0m\u001b[1;32m     67\u001b[0m     \u001b[1;32mreturn\u001b[0m \u001b[0mKeyPair\u001b[0m\u001b[1;33m(\u001b[0m\u001b[0mKey\u001b[0m\u001b[1;33m(\u001b[0m\u001b[0mpublic\u001b[0m\u001b[1;33m,\u001b[0m \u001b[0mcomposite\u001b[0m\u001b[1;33m)\u001b[0m\u001b[1;33m,\u001b[0m \u001b[0mKey\u001b[0m\u001b[1;33m(\u001b[0m\u001b[0mprivate\u001b[0m\u001b[1;33m,\u001b[0m \u001b[0mcomposite\u001b[0m\u001b[1;33m)\u001b[0m\u001b[1;33m)\u001b[0m\u001b[1;33m\u001b[0m\u001b[0m\n\u001b[1;32m     68\u001b[0m \u001b[1;33m\u001b[0m\u001b[0m\n",
      "\u001b[0;31mAssertionError\u001b[0m: "
     ],
     "output_type": "error"
    }
   ],
   "source": [
    "f=open('msg')\n",
    "pubkey, privkey = keygen(2 ** 128)\n",
    "msg=f.read()\n",
    "msg=msg.rstrip()\n",
    "print(\"Original Message \"+str(msg))\n",
    "r=blind(msg,pubkey)\n",
    "\n",
    "#Alice receives the blind message and signs it\n",
    "bf=open('blindmsg')\n",
    "m=bf.read()\n",
    "signature(m, privkey)\n",
    "\n",
    "#Bob recieves the signed message and unblinds it\n",
    "h=open('signedfile')\n",
    "signedmsg=h.read()\n",
    "unblind(signedmsg,r,pubkey)\n",
    "    \n",
    "#verifier verefis the message\n",
    "i=open('unblindsigned')\n",
    "ubsignedmsg=i.read()\n",
    "verefy(ubsignedmsg,r,pubkey)"
   ]
  },
  {
   "cell_type": "code",
   "execution_count": null,
   "metadata": {},
   "outputs": [],
   "source": []
  }
 ],
 "metadata": {
  "kernelspec": {
   "display_name": "Python 2",
   "language": "python",
   "name": "python2"
  },
  "language_info": {
   "codemirror_mode": {
    "name": "ipython",
    "version": 2
   },
   "file_extension": ".py",
   "mimetype": "text/x-python",
   "name": "python",
   "nbconvert_exporter": "python",
   "pygments_lexer": "ipython2",
   "version": "2.7.6"
  }
 },
 "nbformat": 4,
 "nbformat_minor": 0
}
